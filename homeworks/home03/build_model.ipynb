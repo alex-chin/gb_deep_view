{
 "cells": [
  {
   "cell_type": "code",
   "execution_count": 0,
   "metadata": {
    "collapsed": true
   },
   "outputs": [],
   "source": [
    "import tensorflow as tf"
   ]
  },
  {
   "cell_type": "code",
   "execution_count": 36,
   "outputs": [],
   "source": [
    "class BuildModel:\n",
    "    INP_SIZE = 224\n",
    "    LEARNING_RATE = 0.0001\n",
    "\n",
    "    def __init__(self, is_fine_tuning=False) -> None:\n",
    "        self.is_fine_tuning = is_fine_tuning\n",
    "        basemodel = self.build_base(self.is_fine_tuning)\n",
    "        basemodel.trainable = is_fine_tuning\n",
    "        self.model = self.build_seq(basemodel)\n",
    "        optimizer = self.get_optimizer()\n",
    "        self.compile(optimizer=optimizer)\n",
    "\n",
    "        print('The model', self.get_name(), 'initialised...')\n",
    "\n",
    "    def build_seq(self, basemodel):\n",
    "        return tf.keras.Sequential(\n",
    "            [basemodel,\n",
    "             tf.keras.layers.GlobalAveragePooling2D(),\n",
    "             tf.keras.layers.Dense(101, activation='softmax'),\n",
    "             ])\n",
    "\n",
    "    def get_optimizer(self):\n",
    "        return tf.keras.optimizers.Adam(learning_rate=self.LEARNING_RATE)\n",
    "\n",
    "    def compile(self, optimizer):\n",
    "        model.compile(optimizer=optimizer,\n",
    "              loss='sparse_categorical_crossentropy',\n",
    "              metrics=['accuracy'])\n",
    "\n",
    "    def get_tensorboard_callback(self):\n",
    "        return tf.keras.callbacks.TensorBoard(\n",
    "        log_dir='logs/' + self.get_name(),\n",
    "        write_graph=False, update_freq=100, profile_batch=0)\n",
    "\n",
    "    def get_name(self):\n",
    "        name = self.__class__.__name__\n",
    "        if not self.is_fine_tuning:\n",
    "            name += '_frozen'\n",
    "        return name\n",
    "\n",
    "    def build_base(self, is_fine_tuning):\n",
    "        return None\n",
    "\n",
    "\n",
    "class MobilNet(BuildModel):\n",
    "    def build_base(self, is_fine_tuning):\n",
    "        model = tf.keras.applications.MobileNetV2(\n",
    "            input_shape=(self.INP_SIZE, self.INP_SIZE, 3),\n",
    "            include_top=False,\n",
    "            weights='imagenet')\n",
    "        return model\n",
    "\n",
    "\n",
    "class EfficientNet(BuildModel):\n",
    "    def build_base(self, is_fine_tuning):\n",
    "        model = tf.keras.applications.EfficientNetV2S(\n",
    "            input_shape=(self.INP_SIZE, self.INP_SIZE, 3),\n",
    "            include_top=False,\n",
    "            weights='imagenet',\n",
    "            include_preprocessing=False, )\n",
    "        return model\n"
   ],
   "metadata": {
    "collapsed": false
   }
  },
  {
   "cell_type": "code",
   "execution_count": 37,
   "outputs": [
    {
     "name": "stdout",
     "output_type": "stream",
     "text": [
      "The model MobilNet initialised...\n"
     ]
    }
   ],
   "source": [
    "model = MobilNet(is_fine_tuning=True).model"
   ],
   "metadata": {
    "collapsed": false
   }
  },
  {
   "cell_type": "code",
   "execution_count": 38,
   "outputs": [
    {
     "name": "stdout",
     "output_type": "stream",
     "text": [
      "Model: \"sequential_8\"\n",
      "_________________________________________________________________\n",
      " Layer (type)                Output Shape              Param #   \n",
      "=================================================================\n",
      " mobilenetv2_1.00_224 (Funct  (None, 7, 7, 1280)       2257984   \n",
      " ional)                                                          \n",
      "                                                                 \n",
      " global_average_pooling2d_8   (None, 1280)             0         \n",
      " (GlobalAveragePooling2D)                                        \n",
      "                                                                 \n",
      " dense_8 (Dense)             (None, 101)               129381    \n",
      "                                                                 \n",
      "=================================================================\n",
      "Total params: 2,387,365\n",
      "Trainable params: 2,353,253\n",
      "Non-trainable params: 34,112\n",
      "_________________________________________________________________\n"
     ]
    }
   ],
   "source": [
    "model.summary()"
   ],
   "metadata": {
    "collapsed": false
   }
  },
  {
   "cell_type": "code",
   "execution_count": null,
   "outputs": [],
   "source": [],
   "metadata": {
    "collapsed": false
   }
  }
 ],
 "metadata": {
  "kernelspec": {
   "display_name": "Python 3",
   "language": "python",
   "name": "python3"
  },
  "language_info": {
   "codemirror_mode": {
    "name": "ipython",
    "version": 2
   },
   "file_extension": ".py",
   "mimetype": "text/x-python",
   "name": "python",
   "nbconvert_exporter": "python",
   "pygments_lexer": "ipython2",
   "version": "2.7.6"
  }
 },
 "nbformat": 4,
 "nbformat_minor": 0
}
