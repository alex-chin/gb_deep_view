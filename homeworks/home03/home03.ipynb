{
 "cells": [
  {
   "cell_type": "markdown",
   "source": [
    "# Задание №3\n",
    "\n",
    "Обучить СНС с помощью Transfer Learning на датасете Food-101.\n",
    "Использовать тонкую настройку существующей предобученной модели и методы аугментации данных.\n",
    "Библиотеки: [Python, Tensorflow]"
   ],
   "metadata": {
    "collapsed": false
   }
  },
  {
   "cell_type": "markdown",
   "source": [
    "> Возьмем предобученную сеть MobileNetV2 и дообучим в режимах Transfer learning и Fine-tuning\n",
    "> Будем использовать веса MobileNetV2 на наборе Imagenet\n",
    "> Целевым набором будет Food101"
   ],
   "metadata": {
    "collapsed": false
   }
  },
  {
   "cell_type": "markdown",
   "source": [
    "## MobileNet-v2\n",
    "MobileNet-v2 является сверточной нейронной сетью, глубина которой составляет 53 слоя. Можно загрузить предварительно обученную версию сети, обученной больше чем на миллионе изображений от базы данных [ImageNet](https://image-net.org/). Предварительно обученная сеть может классифицировать изображения в 1 000 категорий объектов. В результате сеть изучила богатые представления функции для широкого спектра изображений. Сеть имеет входной размер изображений 224 224. [Статья](https://habr.com/ru/post/352804/)"
   ],
   "metadata": {
    "collapsed": false
   }
  },
  {
   "cell_type": "markdown",
   "source": [
    "## ImageNet\n",
    "База данных ImageNet — проект по созданию и сопровождению массивной базы данных аннотированных изображений, предназначенная для отработки и тестирования методов распознавания образов и машинного зрения. По состоянию на 2016 год в базу данных было записано около десяти миллионов URL с изображениями, которые прошли ручную аннотацию для ImageNet, в аннотациях перечислялись объекты, попавшие на изображение, и прямоугольники с их координатами.[1] База данных с аннотацией и URL изображений от третьих лиц доступна непосредственно через ImageNet, но при этом сами изображения не принадлежат проекту[2]. С 2010 года ведётся проект ILSVRC (англ. ImageNet Large Scale Visual Recognition Challenge — Кампания по широкомасштабному распознаванию образов в ImageNet), в рамках которого различные программные продукты ежегодно соревнуются в классификации и распознавании объектов и сцен в базе данных [ImageNet](https://ru.wikipedia.org/wiki/ImageNet)."
   ],
   "metadata": {
    "collapsed": false
   }
  },
  {
   "cell_type": "markdown",
   "source": [
    "## Food-101\n",
    "Этот набор данных состоит из 101 категории продуктов питания и 101 000 изображений. Для каждого класса предоставляется 250 проверенных вручную тестовых изображений, а также 750 обучающих изображений. Учебные изображения намеренно не очищались и поэтому все еще содержат некоторое количество шума. В основном это проявляется в виде интенсивных цветов и иногда неправильных этикеток. Все изображения были масштабированы таким образом, чтобы максимальная длина стороны составляла 512 пикселей. [food101](https://www.tensorflow.org/datasets/catalog/food101)\n",
    "\n"
   ],
   "metadata": {
    "collapsed": false
   }
  },
  {
   "cell_type": "code",
   "execution_count": null,
   "outputs": [],
   "source": [
    "# для локальноого прогона\n",
    "#!pip install tensorflow-datasets"
   ],
   "metadata": {
    "collapsed": false
   }
  },
  {
   "cell_type": "markdown",
   "source": [
    "## Импорт данных"
   ],
   "metadata": {
    "collapsed": false
   }
  },
  {
   "cell_type": "code",
   "execution_count": 3,
   "outputs": [],
   "source": [
    "%matplotlib inline\n",
    "import matplotlib.pyplot as plt\n",
    "import numpy as np\n",
    "import tensorflow as tf\n",
    "import tensorflow_datasets as tfds"
   ],
   "metadata": {
    "collapsed": false
   }
  },
  {
   "cell_type": "markdown",
   "source": [
    "## Загрузка датасета Food101"
   ],
   "metadata": {
    "collapsed": false
   },
   "execution_count": 1
  },
  {
   "cell_type": "code",
   "execution_count": null,
   "outputs": [
    {
     "name": "stdout",
     "output_type": "stream",
     "text": [
      "\u001B[1mDownloading and preparing dataset Unknown size (download: Unknown size, generated: Unknown size, total: Unknown size) to C:\\Users\\k142\\tensorflow_datasets\\food101\\2.0.0...\u001B[0m\n"
     ]
    },
    {
     "data": {
      "text/plain": "Dl Completed...: 0 url [00:00, ? url/s]",
      "application/vnd.jupyter.widget-view+json": {
       "version_major": 2,
       "version_minor": 0,
       "model_id": "690be12d602541f7bb8a15136f685b78"
      }
     },
     "metadata": {},
     "output_type": "display_data"
    },
    {
     "data": {
      "text/plain": "Dl Size...: 0 MiB [00:00, ? MiB/s]",
      "application/vnd.jupyter.widget-view+json": {
       "version_major": 2,
       "version_minor": 0,
       "model_id": "04fcb06896d64fac80181dbd36e5fd4e"
      }
     },
     "metadata": {},
     "output_type": "display_data"
    },
    {
     "data": {
      "text/plain": "Extraction completed...: 0 file [00:00, ? file/s]",
      "application/vnd.jupyter.widget-view+json": {
       "version_major": 2,
       "version_minor": 0,
       "model_id": "8d93d69e67344644ab6d279ecda44d68"
      }
     },
     "metadata": {},
     "output_type": "display_data"
    }
   ],
   "source": [
    "%%time\n",
    "# tfds.disable_progress_bar()\n",
    "(train_ds, test_ds), ds_info = tfds.load(\n",
    "    'food101',\n",
    "    as_supervised=True,\n",
    "    with_info=True,\n",
    "    split=['train[:10%]', 'validation[:10%]'],\n",
    ")\n",
    "\n",
    "label_names = ds_info.features['label'].names"
   ],
   "metadata": {
    "collapsed": false,
    "pycharm": {
     "is_executing": true
    }
   }
  },
  {
   "cell_type": "markdown",
   "source": [
    "> Будем использовать 10% оригинальной базы для ускорения обучения"
   ],
   "metadata": {
    "collapsed": false
   }
  },
  {
   "cell_type": "code",
   "execution_count": null,
   "outputs": [],
   "source": [
    "print(f'Train exemples: {len(train_ds)}')\n",
    "print(f'Test examples: {len(test_ds)}')\n",
    "print(f'Labels: {len(label_names)}')"
   ],
   "metadata": {
    "collapsed": false
   }
  },
  {
   "cell_type": "markdown",
   "source": [
    "## Визуализация набора Food101"
   ],
   "metadata": {
    "collapsed": false
   }
  },
  {
   "cell_type": "code",
   "execution_count": null,
   "outputs": [],
   "source": [
    "some_samples = [x[0] for x in iter(train_ds.take(16))]\n",
    "some_labels = [x[1].numpy() for x in iter(train_ds.take(16))]\n",
    "\n",
    "fig = plt.figure(figsize=(26, 12))\n",
    "for j in range(len(some_samples)):\n",
    "    ax = fig.add_subplot(4, 8, j + 1)\n",
    "    ax.imshow(some_samples[j])\n",
    "    ax.set_title(label_names[some_labels[j]] + ' | ' + str(some_labels[j]), c='green')\n",
    "    plt.xticks([]), plt.yticks([])\n",
    "plt.show()"
   ],
   "metadata": {
    "collapsed": false
   }
  },
  {
   "cell_type": "markdown",
   "source": [
    "> Необходимо привести высоту и ширину"
   ],
   "metadata": {
    "collapsed": false
   }
  },
  {
   "cell_type": "code",
   "execution_count": null,
   "outputs": [],
   "source": [
    "for i in some_samples[:10]:\n",
    "  print(i.shape)"
   ],
   "metadata": {
    "collapsed": false
   }
  },
  {
   "cell_type": "code",
   "execution_count": null,
   "outputs": [],
   "source": [
    "img_w = set()\n",
    "img_h = set()\n",
    "for item in train_ds:\n",
    "  if item[0].shape[0] != 512:\n",
    "    img_w.add(item[0].shape[0])\n",
    "  elif item[0].shape[1] != 512:\n",
    "    img_h.add(item[0].shape[1])\n",
    "print(f'Min width: {min(img_w)}\\nMin height: {min(img_h)}')"
   ],
   "metadata": {
    "collapsed": false
   }
  },
  {
   "cell_type": "markdown",
   "source": [
    "## Создание пайплайна данных"
   ],
   "metadata": {
    "collapsed": false
   }
  },
  {
   "cell_type": "code",
   "execution_count": null,
   "outputs": [],
   "source": [
    "INP_SIZE = 224\n",
    "NUM_EPOCHS = 5\n",
    "BATCH_SIZE = 32\n",
    "AUTOTUNE = tf.data.AUTOTUNE\n",
    "BUFFER_SIZE = 1000\n",
    "\n",
    "\n",
    "def resize_images(img, label):\n",
    "    img = tf.cast(img, tf.float32) / 127. - 1.  # значения от -1 до 1 для модели MobileNetV2\n",
    "    return tf.image.resize(img, (INP_SIZE, INP_SIZE)), label\n",
    "\n",
    "train_ds = train_ds.shuffle(buffer_size=BUFFER_SIZE)\n",
    "train_ds = train_ds.map(resize_images, num_parallel_calls=AUTOTUNE)\n",
    "train_ds = train_ds.batch(BATCH_SIZE, drop_remainder=True)\n",
    "\n",
    "test_ds = test_ds.shuffle(buffer_size=BUFFER_SIZE)\n",
    "test_ds = test_ds.map(resize_images, num_parallel_calls=AUTOTUNE)\n",
    "test_ds = test_ds.batch(128, drop_remainder=True)"
   ],
   "metadata": {
    "collapsed": false
   }
  },
  {
   "cell_type": "markdown",
   "source": [
    "## Подготовка модели"
   ],
   "metadata": {
    "collapsed": false
   }
  },
  {
   "cell_type": "code",
   "execution_count": null,
   "outputs": [],
   "source": [
    "if 0: # Обучение модели MobileNetV2\n",
    "\n",
    "    # EXP_NAME = 'MobileNetV2'\n",
    "    # EXP_NAME = 'MobileNetV2_augmentaion'\n",
    "    EXP_NAME = 'MobileNetV2_trainable_false'\n",
    "    base_model = tf.keras.applications.MobileNetV2(\n",
    "        input_shape=(INP_SIZE, INP_SIZE, 3),\n",
    "        include_top=False,\n",
    "        weights='imagenet',  # предобученные веса\n",
    "    )\n",
    "    # base_model.trainable = True  # Fine-tuning весов предобученной модели\n",
    "    base_model.trainable = False  # Заморозка весов предобученной модели\n",
    "\n",
    "if 1: # Обучение модели EfficientNetV2S\n",
    "\n",
    "    EXP_NAME = 'EfficientNetV2S'\n",
    "    base_model = tf.keras.applications.EfficientNetV2S(\n",
    "        input_shape=(INP_SIZE, INP_SIZE, 3),\n",
    "        include_top=False,\n",
    "        weights='imagenet',\n",
    "        include_preprocessing=False,\n",
    "    )\n",
    "    base_model.trainable = True  # Fine-tuning весов предобученной модели\n",
    "    # base_model.trainable = False  # Заморозка весов предобученной модели\n",
    "\n",
    "model = tf.keras.Sequential([\n",
    "    base_model,\n",
    "    tf.keras.layers.GlobalAveragePooling2D(),\n",
    "    tf.keras.layers.Dense(101, activation='softmax'),\n",
    "])"
   ],
   "metadata": {
    "collapsed": false
   }
  },
  {
   "cell_type": "markdown",
   "source": [
    "## Подготовка к обучению"
   ],
   "metadata": {
    "collapsed": false
   }
  },
  {
   "cell_type": "code",
   "execution_count": null,
   "outputs": [],
   "source": [
    "LEARNING_RATE = 0.0001\n",
    "OPTIMISER = tf.keras.optimizers.Adam(learning_rate=LEARNING_RATE)\n",
    "\n",
    "model.compile(optimizer=OPTIMISER,\n",
    "              loss='sparse_categorical_crossentropy',\n",
    "              metrics=['accuracy'])\n",
    "\n",
    "tensorboard_callback = tf.keras.callbacks.TensorBoard(\n",
    "    log_dir='logs/' + EXP_NAME,\n",
    "    write_graph=False, update_freq=100, profile_batch=0)"
   ],
   "metadata": {
    "collapsed": false
   }
  },
  {
   "cell_type": "markdown",
   "source": [
    "## Структура модели"
   ],
   "metadata": {
    "collapsed": false
   }
  },
  {
   "cell_type": "code",
   "execution_count": null,
   "outputs": [],
   "source": [
    "model.summary()"
   ],
   "metadata": {
    "collapsed": false
   }
  },
  {
   "cell_type": "markdown",
   "source": [
    "## Обучение модели"
   ],
   "metadata": {
    "collapsed": false
   }
  },
  {
   "cell_type": "code",
   "execution_count": null,
   "outputs": [],
   "source": [
    "%%time\n",
    "\n",
    "history = model.fit(\n",
    "    train_ds,\n",
    "    epochs=NUM_EPOCHS,\n",
    "    validation_data=test_ds,\n",
    "    callbacks=[tensorboard_callback])"
   ],
   "metadata": {
    "collapsed": false
   }
  },
  {
   "cell_type": "markdown",
   "source": [
    "## Оценка качества модели\n"
   ],
   "metadata": {
    "collapsed": false
   }
  },
  {
   "cell_type": "code",
   "execution_count": 1,
   "outputs": [
    {
     "ename": "NameError",
     "evalue": "name 'model' is not defined",
     "output_type": "error",
     "traceback": [
      "\u001B[1;31m---------------------------------------------------------------------------\u001B[0m",
      "\u001B[1;31mNameError\u001B[0m                                 Traceback (most recent call last)",
      "Cell \u001B[1;32mIn[1], line 1\u001B[0m\n\u001B[1;32m----> 1\u001B[0m history_test \u001B[38;5;241m=\u001B[39m \u001B[43mmodel\u001B[49m\u001B[38;5;241m.\u001B[39mevaluate(test_ds)\n\u001B[0;32m      2\u001B[0m history_test\n",
      "\u001B[1;31mNameError\u001B[0m: name 'model' is not defined"
     ]
    }
   ],
   "source": [
    "history_test = model.evaluate(test_ds)\n",
    "history_test"
   ],
   "metadata": {
    "collapsed": false
   }
  },
  {
   "cell_type": "markdown",
   "source": [
    "## Панель TensorBoard"
   ],
   "metadata": {
    "collapsed": false
   }
  },
  {
   "cell_type": "code",
   "execution_count": 2,
   "outputs": [
    {
     "name": "stderr",
     "output_type": "stream",
     "text": [
      "UsageError: Line magic function `%` not found.\n"
     ]
    }
   ],
   "source": [
    "%load_ext tensorboard\n",
    "%tensorboard --logdir logs"
   ],
   "metadata": {
    "collapsed": false
   }
  },
  {
   "cell_type": "markdown",
   "source": [
    "## Разпознавание картинки"
   ],
   "metadata": {
    "collapsed": false
   }
  },
  {
   "cell_type": "code",
   "execution_count": null,
   "outputs": [],
   "source": [],
   "metadata": {
    "collapsed": false
   }
  },
  {
   "cell_type": "code",
   "execution_count": null,
   "outputs": [],
   "source": [],
   "metadata": {
    "collapsed": false
   }
  }
 ],
 "metadata": {
  "kernelspec": {
   "display_name": "Python 3",
   "language": "python",
   "name": "python3"
  },
  "language_info": {
   "codemirror_mode": {
    "name": "ipython",
    "version": 2
   },
   "file_extension": ".py",
   "mimetype": "text/x-python",
   "name": "python",
   "nbconvert_exporter": "python",
   "pygments_lexer": "ipython2",
   "version": "2.7.6"
  }
 },
 "nbformat": 4,
 "nbformat_minor": 0
}
