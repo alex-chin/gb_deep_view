{
 "cells": [
  {
   "cell_type": "markdown",
   "source": [
    "# Задание №3\n",
    "\n",
    "Обучить СНС с помощью Transfer Learning на датасете Food-101.\n",
    "Использовать тонкую настройку существующей предобученной модели и методы аугментации данных.\n",
    "Библиотеки: [Python, Tensorflow]"
   ],
   "metadata": {
    "collapsed": false
   }
  },
  {
   "cell_type": "markdown",
   "source": [
    "> Возьмем предобученную сеть MobileNetV2 и дообучим в режимах Transfer learning и Fine-tuning\n",
    "> Будем использовать веса MobileNetV2 на наборе Imagenet\n",
    "> Целевым набором будет Food01"
   ],
   "metadata": {
    "collapsed": false
   }
  },
  {
   "cell_type": "markdown",
   "source": [
    "MobileNet-v2 является сверточной нейронной сетью, глубина которой составляет 53 слоя. Можно загрузить предварительно обученную версию сети, обученной больше чем на миллионе изображений от базы данных [ImageNet](https://image-net.org/). Предварительно обученная сеть может классифицировать изображения в 1 000 категорий объектов. В результате сеть изучила богатые представления функции для широкого спектра изображений. Сеть имеет входной размер изображений 224 224. [Статья](https://habr.com/ru/post/352804/)"
   ],
   "metadata": {
    "collapsed": false
   }
  }
 ],
 "metadata": {
  "kernelspec": {
   "display_name": "Python 3",
   "language": "python",
   "name": "python3"
  },
  "language_info": {
   "codemirror_mode": {
    "name": "ipython",
    "version": 2
   },
   "file_extension": ".py",
   "mimetype": "text/x-python",
   "name": "python",
   "nbconvert_exporter": "python",
   "pygments_lexer": "ipython2",
   "version": "2.7.6"
  }
 },
 "nbformat": 4,
 "nbformat_minor": 0
}
